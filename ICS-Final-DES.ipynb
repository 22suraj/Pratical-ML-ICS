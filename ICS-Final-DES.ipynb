{
 "cells": [
  {
   "cell_type": "code",
   "execution_count": 1,
   "id": "b328093c",
   "metadata": {},
   "outputs": [],
   "source": [
    "from Crypto.Cipher import DES"
   ]
  },
  {
   "cell_type": "code",
   "execution_count": 2,
   "id": "88eb8200",
   "metadata": {},
   "outputs": [],
   "source": [
    "def padd(text):\n",
    "    while len(text) % 8 != 0:\n",
    "        text += ' '\n",
    "    return text"
   ]
  },
  {
   "cell_type": "code",
   "execution_count": 3,
   "id": "8a747339",
   "metadata": {},
   "outputs": [
    {
     "name": "stdout",
     "output_type": "stream",
     "text": [
      "Plain Text : b'Jadhav Password '\n"
     ]
    }
   ],
   "source": [
    "key = b'SurajKey'\n",
    "plaintext = 'Jadhav Password'\n",
    "padded_txt = bytes(padd(plaintext), 'UTF-8')\n",
    "print(\"Plain Text : \" + str(padded_txt))"
   ]
  },
  {
   "cell_type": "code",
   "execution_count": 4,
   "id": "36253426",
   "metadata": {},
   "outputs": [],
   "source": [
    "des = DES.new(key, DES.MODE_ECB)"
   ]
  },
  {
   "cell_type": "code",
   "execution_count": 5,
   "id": "95712fd4",
   "metadata": {},
   "outputs": [
    {
     "name": "stdout",
     "output_type": "stream",
     "text": [
      "Encrypted Text : b'\\x84\\x1a\\x147\\xa7l\\xdc\\xd7\\x8b\\\\\"N\\xe6\\xa2\\xa0F'\n"
     ]
    }
   ],
   "source": [
    "ciphertext = des.encrypt(padded_txt)\n",
    "print(\"Encrypted Text : \" + str(ciphertext))"
   ]
  },
  {
   "cell_type": "code",
   "execution_count": 6,
   "id": "5a661672",
   "metadata": {},
   "outputs": [
    {
     "name": "stdout",
     "output_type": "stream",
     "text": [
      "Decrypted Text : b'Jadhav Password '\n"
     ]
    }
   ],
   "source": [
    "decryptplaintext = des.decrypt(ciphertext)\n",
    "print(\"Decrypted Text : \" + str(decryptplaintext))"
   ]
  },
  {
   "cell_type": "code",
   "execution_count": null,
   "id": "5a9b11e7",
   "metadata": {},
   "outputs": [],
   "source": []
  },
  {
   "cell_type": "code",
   "execution_count": null,
   "id": "eeb8b853",
   "metadata": {},
   "outputs": [],
   "source": []
  }
 ],
 "metadata": {
  "kernelspec": {
   "display_name": "Python 3 (ipykernel)",
   "language": "python",
   "name": "python3"
  },
  "language_info": {
   "codemirror_mode": {
    "name": "ipython",
    "version": 3
   },
   "file_extension": ".py",
   "mimetype": "text/x-python",
   "name": "python",
   "nbconvert_exporter": "python",
   "pygments_lexer": "ipython3",
   "version": "3.7.11"
  }
 },
 "nbformat": 4,
 "nbformat_minor": 5
}
