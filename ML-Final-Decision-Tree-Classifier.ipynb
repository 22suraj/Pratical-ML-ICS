{
 "cells": [
  {
   "cell_type": "code",
   "execution_count": 1,
   "id": "aac7200b",
   "metadata": {},
   "outputs": [],
   "source": [
    "import pandas as pd\n",
    "import numpy as np"
   ]
  },
  {
   "cell_type": "code",
   "execution_count": 2,
   "id": "c3ea0e64",
   "metadata": {},
   "outputs": [],
   "source": [
    "dataset = pd.read_csv('Assign2tree1.csv')"
   ]
  },
  {
   "cell_type": "code",
   "execution_count": 3,
   "id": "23fab8da",
   "metadata": {},
   "outputs": [
    {
     "name": "stdout",
     "output_type": "stream",
     "text": [
      "    id    age  income  gender marital_status buys\n",
      "0    1    <21    High    Male         Single   No\n",
      "1    2    <21    High    Male        Married   No\n",
      "2    3  21-35    High    Male         Single  Yes\n",
      "3    4    >35  Medium    Male         Single  Yes\n",
      "4    5    >35     Low  Female         Single  Yes\n",
      "5    6    >35     Low  Female        Married   No\n",
      "6    7  21-35     Low  Female        Married  Yes\n",
      "7    8    <21  Medium    Male         Single   No\n",
      "8    9    <21     Low  Female        Married  Yes\n",
      "9   10    >35  Medium  Female         Single  Yes\n",
      "10  11    <21  Medium  Female        Married  Yes\n",
      "11  12  21-35  Medium    Male        Married  Yes\n",
      "12  13  21-35    High  Female         Single  Yes\n",
      "13  14    >35  Medium    Male        Married   No\n"
     ]
    }
   ],
   "source": [
    "print(dataset)"
   ]
  },
  {
   "cell_type": "code",
   "execution_count": 4,
   "id": "abdc909a",
   "metadata": {},
   "outputs": [
    {
     "name": "stdout",
     "output_type": "stream",
     "text": [
      "    id    age  income  gender marital_status\n",
      "0    1    <21    High    Male         Single\n",
      "1    2    <21    High    Male        Married\n",
      "2    3  21-35    High    Male         Single\n",
      "3    4    >35  Medium    Male         Single\n",
      "4    5    >35     Low  Female         Single\n",
      "5    6    >35     Low  Female        Married\n",
      "6    7  21-35     Low  Female        Married\n",
      "7    8    <21  Medium    Male         Single\n",
      "8    9    <21     Low  Female        Married\n",
      "9   10    >35  Medium  Female         Single\n",
      "10  11    <21  Medium  Female        Married\n",
      "11  12  21-35  Medium    Male        Married\n",
      "12  13  21-35    High  Female         Single\n",
      "13  14    >35  Medium    Male        Married\n"
     ]
    }
   ],
   "source": [
    "x = dataset.iloc[:,:-1]\n",
    "print(x)"
   ]
  },
  {
   "cell_type": "code",
   "execution_count": 5,
   "id": "f6cbec65",
   "metadata": {},
   "outputs": [
    {
     "name": "stdout",
     "output_type": "stream",
     "text": [
      "0      No\n",
      "1      No\n",
      "2     Yes\n",
      "3     Yes\n",
      "4     Yes\n",
      "5      No\n",
      "6     Yes\n",
      "7      No\n",
      "8     Yes\n",
      "9     Yes\n",
      "10    Yes\n",
      "11    Yes\n",
      "12    Yes\n",
      "13     No\n",
      "Name: buys, dtype: object\n"
     ]
    }
   ],
   "source": [
    "y = dataset.iloc[:,5]\n",
    "print(y)"
   ]
  },
  {
   "cell_type": "code",
   "execution_count": 7,
   "id": "06ffc504",
   "metadata": {},
   "outputs": [
    {
     "name": "stdout",
     "output_type": "stream",
     "text": [
      "    id  age  income  gender  marital_status\n",
      "0    0    1       0       1               1\n",
      "1    1    1       0       1               0\n",
      "2    2    0       0       1               1\n",
      "3    3    2       2       1               1\n",
      "4    4    2       1       0               1\n",
      "5    5    2       1       0               0\n",
      "6    6    0       1       0               0\n",
      "7    7    1       2       1               1\n",
      "8    8    1       1       0               0\n",
      "9    9    2       2       0               1\n",
      "10  10    1       2       0               0\n",
      "11  11    0       2       1               0\n",
      "12  12    0       0       0               1\n",
      "13  13    2       2       1               0\n"
     ]
    }
   ],
   "source": [
    "from sklearn.preprocessing import LabelEncoder\n",
    "le = LabelEncoder()\n",
    "x = x.apply(le.fit_transform)\n",
    "print(x)"
   ]
  },
  {
   "cell_type": "code",
   "execution_count": 8,
   "id": "d00b0130",
   "metadata": {},
   "outputs": [],
   "source": [
    "from sklearn.tree import DecisionTreeClassifier\n",
    "model = DecisionTreeClassifier()"
   ]
  },
  {
   "cell_type": "code",
   "execution_count": 12,
   "id": "fba70c21",
   "metadata": {},
   "outputs": [],
   "source": [
    "x = x.iloc[:, 1:5]"
   ]
  },
  {
   "cell_type": "code",
   "execution_count": 14,
   "id": "ded91c9a",
   "metadata": {},
   "outputs": [
    {
     "name": "stdout",
     "output_type": "stream",
     "text": [
      "    age  income  gender  marital_status\n",
      "0     1       0       1               1\n",
      "1     1       0       1               0\n",
      "2     0       0       1               1\n",
      "3     2       2       1               1\n",
      "4     2       1       0               1\n",
      "5     2       1       0               0\n",
      "6     0       1       0               0\n",
      "7     1       2       1               1\n",
      "8     1       1       0               0\n",
      "9     2       2       0               1\n",
      "10    1       2       0               0\n",
      "11    0       2       1               0\n",
      "12    0       0       0               1\n",
      "13    2       2       1               0\n"
     ]
    }
   ],
   "source": [
    "print(x)"
   ]
  },
  {
   "cell_type": "code",
   "execution_count": 15,
   "id": "a48bee28",
   "metadata": {},
   "outputs": [
    {
     "data": {
      "text/plain": [
       "DecisionTreeClassifier()"
      ]
     },
     "execution_count": 15,
     "metadata": {},
     "output_type": "execute_result"
    }
   ],
   "source": [
    "model.fit(x, y)"
   ]
  },
  {
   "cell_type": "code",
   "execution_count": 19,
   "id": "83158458",
   "metadata": {},
   "outputs": [
    {
     "name": "stdout",
     "output_type": "stream",
     "text": [
      "['Yes']\n"
     ]
    },
    {
     "name": "stderr",
     "output_type": "stream",
     "text": [
      "C:\\Users\\91959\\anaconda3\\lib\\site-packages\\sklearn\\base.py:451: UserWarning: X does not have valid feature names, but DecisionTreeClassifier was fitted with feature names\n",
      "  \"X does not have valid feature names, but\"\n"
     ]
    }
   ],
   "source": [
    "x_in = np.array([1,1,0,0])\n",
    "y_pred = model.predict([x_in])\n",
    "print(y_pred)"
   ]
  },
  {
   "cell_type": "code",
   "execution_count": 20,
   "id": "02778ab0",
   "metadata": {},
   "outputs": [],
   "source": [
    "from sklearn import tree"
   ]
  },
  {
   "cell_type": "code",
   "execution_count": 21,
   "id": "4ccc781f",
   "metadata": {},
   "outputs": [
    {
     "name": "stdout",
     "output_type": "stream",
     "text": [
      "|--- feature_0 <= 0.50\n",
      "|   |--- class: Yes\n",
      "|--- feature_0 >  0.50\n",
      "|   |--- feature_2 <= 0.50\n",
      "|   |   |--- feature_1 <= 1.50\n",
      "|   |   |   |--- feature_0 <= 1.50\n",
      "|   |   |   |   |--- class: Yes\n",
      "|   |   |   |--- feature_0 >  1.50\n",
      "|   |   |   |   |--- feature_3 <= 0.50\n",
      "|   |   |   |   |   |--- class: No\n",
      "|   |   |   |   |--- feature_3 >  0.50\n",
      "|   |   |   |   |   |--- class: Yes\n",
      "|   |   |--- feature_1 >  1.50\n",
      "|   |   |   |--- class: Yes\n",
      "|   |--- feature_2 >  0.50\n",
      "|   |   |--- feature_0 <= 1.50\n",
      "|   |   |   |--- class: No\n",
      "|   |   |--- feature_0 >  1.50\n",
      "|   |   |   |--- feature_3 <= 0.50\n",
      "|   |   |   |   |--- class: No\n",
      "|   |   |   |--- feature_3 >  0.50\n",
      "|   |   |   |   |--- class: Yes\n",
      "\n"
     ]
    }
   ],
   "source": [
    "text_representation = tree.export_text(model)\n",
    "print(text_representation)"
   ]
  },
  {
   "cell_type": "code",
   "execution_count": null,
   "id": "5f288467",
   "metadata": {},
   "outputs": [],
   "source": []
  }
 ],
 "metadata": {
  "kernelspec": {
   "display_name": "Python 3 (ipykernel)",
   "language": "python",
   "name": "python3"
  },
  "language_info": {
   "codemirror_mode": {
    "name": "ipython",
    "version": 3
   },
   "file_extension": ".py",
   "mimetype": "text/x-python",
   "name": "python",
   "nbconvert_exporter": "python",
   "pygments_lexer": "ipython3",
   "version": "3.7.11"
  }
 },
 "nbformat": 4,
 "nbformat_minor": 5
}
