{
 "cells": [
  {
   "cell_type": "code",
   "execution_count": 1,
   "id": "0269f024",
   "metadata": {},
   "outputs": [],
   "source": [
    "from Crypto.Cipher import AES"
   ]
  },
  {
   "cell_type": "code",
   "execution_count": 2,
   "id": "6f8087d3",
   "metadata": {},
   "outputs": [],
   "source": [
    "def paddtext(text):\n",
    "    while len(text) % 8 != 0:\n",
    "        text += ' '\n",
    "    return text"
   ]
  },
  {
   "cell_type": "code",
   "execution_count": 3,
   "id": "1c9eedea",
   "metadata": {},
   "outputs": [],
   "source": [
    "#Key 16\n",
    "key = b'SurajJadhavKey12'\n",
    "plaintext = 'Jadhav Password'\n",
    "padded_text = bytes(paddtext(plaintext), 'UTF-8')"
   ]
  },
  {
   "cell_type": "code",
   "execution_count": 4,
   "id": "06273804",
   "metadata": {},
   "outputs": [],
   "source": [
    "aes = AES.new(key, AES.MODE_ECB)"
   ]
  },
  {
   "cell_type": "code",
   "execution_count": 5,
   "id": "b8c0f84f",
   "metadata": {},
   "outputs": [
    {
     "name": "stdout",
     "output_type": "stream",
     "text": [
      "Encrypted Text : b'T\\xb5Guf\\x89\\x85\\x9b\\xd1H{*\\xe3Yq%'\n"
     ]
    }
   ],
   "source": [
    "ciphertext = aes.encrypt(padded_text)\n",
    "print(\"Encrypted Text : \" + str(ciphertext))"
   ]
  },
  {
   "cell_type": "code",
   "execution_count": 6,
   "id": "c3336f9f",
   "metadata": {},
   "outputs": [
    {
     "name": "stdout",
     "output_type": "stream",
     "text": [
      "Decrypted Text : b'Jadhav Password '\n"
     ]
    }
   ],
   "source": [
    "decryptplaintext = aes.decrypt(ciphertext)\n",
    "print(\"Decrypted Text : \" + str(decryptplaintext))"
   ]
  },
  {
   "cell_type": "code",
   "execution_count": null,
   "id": "05aeeee1",
   "metadata": {},
   "outputs": [],
   "source": []
  }
 ],
 "metadata": {
  "kernelspec": {
   "display_name": "Python 3 (ipykernel)",
   "language": "python",
   "name": "python3"
  },
  "language_info": {
   "codemirror_mode": {
    "name": "ipython",
    "version": 3
   },
   "file_extension": ".py",
   "mimetype": "text/x-python",
   "name": "python",
   "nbconvert_exporter": "python",
   "pygments_lexer": "ipython3",
   "version": "3.7.11"
  }
 },
 "nbformat": 4,
 "nbformat_minor": 5
}
