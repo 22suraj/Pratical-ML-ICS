{
 "cells": [
  {
   "cell_type": "code",
   "execution_count": 4,
   "id": "e4ee63ae",
   "metadata": {},
   "outputs": [
    {
     "name": "stdout",
     "output_type": "stream",
     "text": [
      "1\n",
      "1\n"
     ]
    }
   ],
   "source": [
    "if __name__ == '__main__':\n",
    "    #Consider q\n",
    "    q = 7\n",
    "    #Calculate alpha\n",
    "    x = 5\n",
    "    #Consider xa calculte ya = x^xa mod q\n",
    "    xa = 3\n",
    "    ya = int(pow(5, 3, 7))\n",
    "    \n",
    "    #Consider xb calculte yb = x^xb mod q\n",
    "    xb = 4\n",
    "    yb = int(pow(5, 4, 7))\n",
    "    \n",
    "    #calculate k1 and k2\n",
    "    k1 = int(pow(yb, xa, q))\n",
    "    print(k1)\n",
    "    \n",
    "    k2 = int(pow(ya, xb, q))\n",
    "    print(k2)\n",
    "    "
   ]
  },
  {
   "cell_type": "code",
   "execution_count": null,
   "id": "d9a7481f",
   "metadata": {},
   "outputs": [],
   "source": []
  }
 ],
 "metadata": {
  "kernelspec": {
   "display_name": "Python 3 (ipykernel)",
   "language": "python",
   "name": "python3"
  },
  "language_info": {
   "codemirror_mode": {
    "name": "ipython",
    "version": 3
   },
   "file_extension": ".py",
   "mimetype": "text/x-python",
   "name": "python",
   "nbconvert_exporter": "python",
   "pygments_lexer": "ipython3",
   "version": "3.7.11"
  }
 },
 "nbformat": 4,
 "nbformat_minor": 5
}
